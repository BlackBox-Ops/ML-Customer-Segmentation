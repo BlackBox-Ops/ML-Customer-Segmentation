{
 "cells": [
  {
   "cell_type": "markdown",
   "metadata": {},
   "source": [
    "# Exploratory Data Analyst : Case Mall Customers\n",
    "---\n",
    "Analisis menggunakan datasheet Mall Customer untuk menemukan pola konsumen yang paling sering berbelanja berdasarkan jenis kelamin, pendapatan tahunan, skor pengeluaran, kategori usia dan lain-lain "
   ]
  },
  {
   "cell_type": "markdown",
   "metadata": {
    "vscode": {
     "languageId": "plaintext"
    }
   },
   "source": [
    "# 1. Load datasheet from postgresql \n",
    "---\n",
    "pertama kita akan membuat koneksi database ke postgresql pada tabel customer_segmentation untuk datasheet yang akan kita gunakan dalam proses analisis "
   ]
  },
  {
   "cell_type": "code",
   "execution_count": 16,
   "metadata": {},
   "outputs": [
    {
     "name": "stdout",
     "output_type": "stream",
     "text": [
      "   CustomerID  Gender  Age  Annual Income (k$)  Spending Score (1-100)  \\\n",
      "0           1    Male   19                  15                      39   \n",
      "1           2    Male   21                  15                      81   \n",
      "2           3  Female   20                  16                       6   \n",
      "3           4  Female   23                  16                      77   \n",
      "4           5  Female   31                  17                      40   \n",
      "\n",
      "  kategori_usia  \n",
      "0   Dewasa Muda  \n",
      "1   Dewasa Muda  \n",
      "2   Dewasa Muda  \n",
      "3   Dewasa Muda  \n",
      "4        Dewasa  \n",
      "\n",
      "Dari datasheet tersebut dapat diketahui bahwa kita bisa melakukan analisis \n",
      "untuk menemukan insight dengan memanfaatkan kolom annual income dan spending score \n",
      "terhadap gender dan kategori usia sehingga hasil akhirnya kita bisa membuat \n",
      "analisis customer segmentation dan meningkatkan penjualan.\n",
      "\n"
     ]
    }
   ],
   "source": [
    "import pandas as pd # library untuk pengolohan dataframe \n",
    "import numpy as np  # library untuk komputasi numerik \n",
    "\n",
    "# import library untuk koneksi ke database postgresql \n",
    "from sqlalchemy import create_engine\n",
    "\n",
    "# menyambungkan ke database postgresql \n",
    "# Pastikan Anda mengganti parameter sesuai dengan kredensial PostgreSQL Anda\n",
    "db_params = {\n",
    "    'host': 'localhost',\n",
    "    'dbname': 'DB_ML',\n",
    "    'user': 'postgres',\n",
    "    'password': 'admin',\n",
    "    'port': 5432  # default PostgreSQL port\n",
    "}\n",
    "\n",
    "# membuat engine untuk koneksi menggunakan SQL Alchemy \n",
    "engine = create_engine(f'postgresql://{db_params[\"user\"]}:{db_params[\"password\"]}@{db_params[\"host\"]}:{db_params[\"port\"]}/{db_params[\"dbname\"]}')\n",
    "\n",
    "# muat tabel ke dalam dataframe pandas \n",
    "df = pd.read_sql_table('customer_segmentation', engine)\n",
    "\n",
    "# tampilkan isi dari tabel customer segemntation \n",
    "print(df.head())\n",
    "\n",
    "print(\"\"\"\n",
    "Dari datasheet tersebut dapat diketahui bahwa kita bisa melakukan analisis \n",
    "untuk menemukan insight dengan memanfaatkan kolom annual income dan spending score \n",
    "terhadap gender dan kategori usia sehingga hasil akhirnya kita bisa membuat \n",
    "analisis customer segmentation dan meningkatkan penjualan.\n",
    "\"\"\")"
   ]
  },
  {
   "cell_type": "markdown",
   "metadata": {},
   "source": [
    "## 1.1 Melihat komposisi dari datasheet yang digunakan\n",
    "--- \n",
    "pertama kita akan melihat komposisi dari datasheet yang kita gunakan seperti jumlah baris dan kolom, dan tipe data serta mengecek apakah ada data yang nilai nya mengalami missing value dan lain-lain"
   ]
  },
  {
   "cell_type": "code",
   "execution_count": 20,
   "metadata": {},
   "outputs": [
    {
     "name": "stdout",
     "output_type": "stream",
     "text": [
      "Jumlah baris pada datasheet tersebut berjumlah : 200 baris\n",
      "Jumlah kolom pada datasheet tersebut berjumlah : 6 kolom\n",
      "\n",
      "ternyata jumlah komposisi pada datasheet kita berjumlah 200 baris data dan 6 kolom meskipun\n",
      "jumlahnya sedikit kita akan memaksimalkan denganmenggunakan metode statistik yang sesuai agar \n",
      "memberikan haisl yang optimal \n",
      "\n"
     ]
    }
   ],
   "source": [
    "print(f'Jumlah baris pada datasheet tersebut berjumlah : {df.shape[0]} baris') # mengecek jumlah baris pada datasheet\n",
    "print(f'Jumlah kolom pada datasheet tersebut berjumlah : {df.shape[1]} kolom') # mengecek jumlah kolom pada datasheet \n",
    "\n",
    "print(\"\"\"\n",
    "ternyata jumlah komposisi pada datasheet kita berjumlah 200 baris data dan 6 kolom meskipun\n",
    "jumlahnya sedikit kita akan memaksimalkan denganmenggunakan metode statistik yang sesuai agar \n",
    "memberikan haisl yang optimal \n",
    "\"\"\")"
   ]
  },
  {
   "cell_type": "markdown",
   "metadata": {},
   "source": [
    "## 1.2 Mengecek apakah ada data yang bernilai missing value\n",
    "---\n",
    "pada bagian ini kita akan melakukan pengecekan untuk mengetahui apakah ada data yang mengalami missing value pada datasheet yang kita gunakan dan menghapus atau mengganti nilai yang missing value tersebut sebelum dilanjutkan ke dalam proses berikut nya "
   ]
  },
  {
   "cell_type": "code",
   "execution_count": 22,
   "metadata": {},
   "outputs": [
    {
     "name": "stdout",
     "output_type": "stream",
     "text": [
      "jumlah duplikasi : 0 data\n",
      "\n",
      "ternyata tidak ada data yang mengalami misisng value sehingga kita bisa lanjutkan ke tahap berikutnya \n",
      "yaitu analisis outlier untuk mengetahui bahwa apakah ada fitur yang mengalami outliers yang mungkin \n",
      "bisa mempengarui kinerja dari model yang kita buat nanti\n",
      "\n"
     ]
    }
   ],
   "source": [
    "# mengecek apakah ada data yang mengalami missing value \n",
    "print(f'jumlah duplikasi : {df.duplicated().sum()} data')\n",
    "\n",
    "print(\"\"\"\n",
    "ternyata tidak ada data yang mengalami misisng value sehingga kita bisa lanjutkan ke tahap berikutnya \n",
    "yaitu analisis outlier untuk mengetahui bahwa apakah ada fitur yang mengalami outliers yang mungkin \n",
    "bisa mempengarui kinerja dari model yang kita buat nanti\n",
    "\"\"\")"
   ]
  },
  {
   "cell_type": "markdown",
   "metadata": {},
   "source": [
    "# 2.Exploratory data analyst (EDA)\n",
    "---\n",
    "Tahap selanjutnya kita akan masuk kedalam tahap analisis EDA untuk melakukan preprocessing pada data yang meliputi pembersihan pada data dan mencari insight yang mungkin bisa memberikan keuntungan kedepan nya "
   ]
  },
  {
   "cell_type": "markdown",
   "metadata": {},
   "source": [
    "## 2.1 Rename columns\n",
    "---\n",
    "pada proses ini kita akan melakukan perubahan nama fitur pada kolom datasheet kita agar mudah untuk melakukan analisis kedepannya "
   ]
  },
  {
   "cell_type": "code",
   "execution_count": 25,
   "metadata": {},
   "outputs": [
    {
     "name": "stdout",
     "output_type": "stream",
     "text": [
      "   CustomerID  Gender  Age  Pendapatan_Tahunan  Pengeluaran Tahunan  \\\n",
      "0           1    Male   19                  15                   39   \n",
      "1           2    Male   21                  15                   81   \n",
      "2           3  Female   20                  16                    6   \n",
      "3           4  Female   23                  16                   77   \n",
      "4           5  Female   31                  17                   40   \n",
      "\n",
      "  kategori_usia  \n",
      "0   Dewasa Muda  \n",
      "1   Dewasa Muda  \n",
      "2   Dewasa Muda  \n",
      "3   Dewasa Muda  \n",
      "4        Dewasa  \n",
      "\n",
      "dengan merubah nama kolom annual income (k$) dan spending score (1-100) kita bisa lebih mudah \n",
      "untuk melakukan analisis jika kita menggunakan 2 kolom tersebut nanti nya \n",
      "\n"
     ]
    }
   ],
   "source": [
    "# rename kolom annual income dan spending skor \n",
    "df = df.rename(columns={'Annual Income (k$)':'Pendapatan_Tahunan', 'Spending Score (1-100)':'Pengeluaran_Tahunan'})\n",
    "print(df.head())\n",
    "\n",
    "print(\"\"\"\n",
    "dengan merubah nama kolom annual income (k$) dan spending score (1-100) kita bisa lebih mudah \n",
    "untuk melakukan analisis jika kita menggunakan 2 kolom tersebut nanti nya \n",
    "\"\"\")"
   ]
  },
  {
   "cell_type": "markdown",
   "metadata": {},
   "source": [
    "## 2.2 Analisis data outlier dan visualisasi boxplot\n",
    "---\n",
    "selanjutnya kita akan melakukan visulisasi data dengan boxplot untuk melihat penyebaran dari dari fitur data yang kita miliki "
   ]
  },
  {
   "cell_type": "code",
   "execution_count": null,
   "metadata": {},
   "outputs": [],
   "source": []
  }
 ],
 "metadata": {
  "kernelspec": {
   "display_name": "Python 3",
   "language": "python",
   "name": "python3"
  },
  "language_info": {
   "codemirror_mode": {
    "name": "ipython",
    "version": 3
   },
   "file_extension": ".py",
   "mimetype": "text/x-python",
   "name": "python",
   "nbconvert_exporter": "python",
   "pygments_lexer": "ipython3",
   "version": "3.12.6"
  }
 },
 "nbformat": 4,
 "nbformat_minor": 2
}
