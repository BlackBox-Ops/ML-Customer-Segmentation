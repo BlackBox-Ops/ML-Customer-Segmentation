{
 "cells": [
  {
   "cell_type": "markdown",
   "metadata": {},
   "source": [
    "# Exploratory Data Analyst : Case Mall Customers\n",
    "---\n",
    "Analisis menggunakan datasheet Mall Customer untuk menemukan pola konsumen yang paling sering berbelanja berdasarkan jenis kelamin, pendapatan tahunan, skor pengeluaran, kategori usia dan lain-lain "
   ]
  },
  {
   "cell_type": "markdown",
   "metadata": {
    "vscode": {
     "languageId": "plaintext"
    }
   },
   "source": [
    "# 1. Load datasheet from postgresql \n",
    "---\n",
    "pertama kita akan membuat koneksi database ke postgresql pada tabel customer_segmentation untuk datasheet yang akan kita gunakan dalam proses analisis "
   ]
  },
  {
   "cell_type": "code",
   "execution_count": 4,
   "metadata": {},
   "outputs": [],
   "source": [
    "import pandas as pd # library untuk pengolohan dataframe \n",
    "import numpy as np  # library untuk komputasi numerik \n",
    "\n",
    "# import library untuk koneksi ke database postgresql \n",
    "from sqlalchemy import create_engine\n",
    "\n",
    "# menyambungkan ke database postgresql \n",
    "# Pastikan Anda mengganti parameter sesuai dengan kredensial PostgreSQL Anda\n",
    "db_params = {\n",
    "    'host': 'localhost',\n",
    "    'dbname': 'DB_ML',\n",
    "    'user': 'postgres',\n",
    "    'password': 'admin',\n",
    "    'port': 5432  # default PostgreSQL port\n",
    "}\n",
    "\n",
    "# mmebuat engine untuk koneksi menggunakan SQL Alchemy \n",
    "engine = create_engine(f'postgresql://{db_params[\"user\"]}:{db_params[\"password\"]}@{db_params[\"host\"]}:{db_params[\"port\"]}/{db_params[\"dbname\"]}')"
   ]
  }
 ],
 "metadata": {
  "kernelspec": {
   "display_name": "Python 3",
   "language": "python",
   "name": "python3"
  },
  "language_info": {
   "codemirror_mode": {
    "name": "ipython",
    "version": 3
   },
   "file_extension": ".py",
   "mimetype": "text/x-python",
   "name": "python",
   "nbconvert_exporter": "python",
   "pygments_lexer": "ipython3",
   "version": "3.12.6"
  }
 },
 "nbformat": 4,
 "nbformat_minor": 2
}
